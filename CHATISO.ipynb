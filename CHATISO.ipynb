{
  "cells": [
    {
      "cell_type": "markdown",
      "metadata": {
        "id": "view-in-github",
        "colab_type": "text"
      },
      "source": [
        "<a href=\"https://colab.research.google.com/github/IvoneySilva/100-days-of-javascript/blob/master/CHATISO.ipynb\" target=\"_parent\"><img src=\"https://colab.research.google.com/assets/colab-badge.svg\" alt=\"Open In Colab\"/></a>"
      ]
    },
    {
      "cell_type": "code",
      "execution_count": 1,
      "metadata": {
        "colab": {
          "base_uri": "https://localhost:8080/"
        },
        "id": "4kM6KyrL13J0",
        "outputId": "9edbfe21-e67b-420c-ca23-e5defec5fe09"
      },
      "outputs": [
        {
          "output_type": "stream",
          "name": "stdout",
          "text": [
            "\n",
            "Usage:   \n",
            "  pip3 install [options] <requirement specifier> [package-index-options] ...\n",
            "  pip3 install [options] -r <requirements file> [package-index-options] ...\n",
            "  pip3 install [options] [-e] <vcs project url> ...\n",
            "  pip3 install [options] [-e] <local project path> ...\n",
            "  pip3 install [options] <archive url/path> ...\n",
            "\n",
            "no such option: -u\n"
          ]
        }
      ],
      "source": [
        "!pip install -q -u google-generativeai"
      ]
    },
    {
      "cell_type": "code",
      "execution_count": 2,
      "metadata": {
        "id": "i5v_mwCM2cko"
      },
      "outputs": [],
      "source": [
        "import google.generativeai as genai"
      ]
    },
    {
      "cell_type": "code",
      "execution_count": 3,
      "metadata": {
        "id": "c6d-WwNe2mXg"
      },
      "outputs": [],
      "source": [
        "from google.colab import userdata\n",
        "GOOGLE_GEMINI_API_KEY=userdata.get(\"GOOGLE_GEMINI_API_KEY\")\n",
        "genai.configure(api_key=GOOGLE_GEMINI_API_KEY)"
      ]
    },
    {
      "cell_type": "code",
      "execution_count": 4,
      "metadata": {
        "colab": {
          "base_uri": "https://localhost:8080/",
          "height": 503
        },
        "id": "-Wh0FPis5epz",
        "outputId": "43a7a764-d3f7-4dc2-c259-0e00ed2bff5a"
      },
      "outputs": [
        {
          "output_type": "stream",
          "name": "stdout",
          "text": [
            "models/gemini-1.0-pro-latest\n",
            "models/gemini-1.0-pro\n",
            "models/gemini-pro\n",
            "models/gemini-1.0-pro-001\n",
            "models/gemini-1.0-pro-vision-latest\n",
            "models/gemini-pro-vision\n",
            "models/gemini-1.5-pro-latest\n",
            "models/gemini-1.5-pro-001\n",
            "models/gemini-1.5-pro-002\n",
            "models/gemini-1.5-pro\n",
            "models/gemini-1.5-pro-exp-0801\n",
            "models/gemini-1.5-pro-exp-0827\n",
            "models/gemini-1.5-flash-latest\n",
            "models/gemini-1.5-flash-001\n",
            "models/gemini-1.5-flash-001-tuning\n",
            "models/gemini-1.5-flash\n",
            "models/gemini-1.5-flash-exp-0827\n",
            "models/gemini-1.5-flash-002\n",
            "models/gemini-1.5-flash-8b\n",
            "models/gemini-1.5-flash-8b-001\n",
            "models/gemini-1.5-flash-8b-latest\n",
            "models/gemini-1.5-flash-8b-exp-0827\n",
            "models/gemini-1.5-flash-8b-exp-0924\n",
            "models/gemini-2.0-flash-exp\n",
            "models/gemini-exp-1206\n",
            "models/gemini-exp-1121\n",
            "models/gemini-exp-1114\n",
            "models/learnlm-1.5-pro-experimental\n"
          ]
        }
      ],
      "source": [
        "for m in genai.list_models():\n",
        "  if 'generateContent' in m.supported_generation_methods:\n",
        "    print(m.name)"
      ]
    },
    {
      "cell_type": "code",
      "execution_count": 5,
      "metadata": {
        "id": "U1wWjExu642b"
      },
      "outputs": [],
      "source": [
        "model= genai.GenerativeModel(\"models/gemini-exp-1206\")"
      ]
    },
    {
      "cell_type": "code",
      "execution_count": 6,
      "metadata": {
        "colab": {
          "base_uri": "https://localhost:8080/",
          "height": 140
        },
        "id": "Dcwe3OiR7h0t",
        "outputId": "ba8d4ca8-1346-4aee-df83-5b41e721c766"
      },
      "outputs": [
        {
          "output_type": "execute_result",
          "data": {
            "text/plain": [
              "'O Brasil foi descoberto por Pedro Álvares Cabral em 22 de abril de 1500. Ele era um navegador português que estava a caminho da Índia quando avistou a costa do Brasil. Ele reivindicou a terra para Portugal e a chamou de Ilha de Vera Cruz. Mais tarde, foi renomeada para Terra de Santa Cruz e, finalmente, Brasil, em homenagem ao pau-brasil, uma árvore que produzia uma tinta vermelha valiosa.\\n\\nNo entanto, é importante notar que o Brasil já era habitado por povos indígenas há milhares de anos antes da chegada de Cabral. Estima-se que entre 2 e 6 milhões de indígenas viviam no Brasil na época da chegada dos europeus. Esses povos tinham suas próprias culturas, línguas e sociedades complexas.\\n\\nPortanto, embora Cabral seja creditado com a \"descoberta\" do Brasil do ponto de vista europeu, é importante reconhecer a existência e a história dos povos indígenas que já viviam lá muito antes de sua chegada.\\n\\nAlém disso, há alguma controvérsia sobre se Cabral foi realmente o primeiro europeu a chegar ao Brasil. Alguns historiadores acreditam que outros exploradores europeus, como o espanhol Vicente Yáñez Pinzón, podem ter chegado ao Brasil alguns meses antes de Cabral. No entanto, não há evidências conclusivas para apoiar essas alegações.\\n\\nEm suma, a \"descoberta\" do Brasil é um evento complexo com múltiplas perspectivas. É importante considerar tanto a chegada dos europeus quanto a história e a presença preexistente dos povos indígenas.\\n'"
            ],
            "application/vnd.google.colaboratory.intrinsic+json": {
              "type": "string"
            }
          },
          "metadata": {},
          "execution_count": 6
        }
      ],
      "source": [
        "response=model.generate_content(\"Quem descobriu o Brasil?\")\n",
        "response.text"
      ]
    },
    {
      "cell_type": "code",
      "execution_count": null,
      "metadata": {
        "colab": {
          "background_save": true,
          "base_uri": "https://localhost:8080/",
          "height": 1000
        },
        "id": "cH4nwFmn8wQh",
        "outputId": "60fc35d5-1339-4059-eebc-801b97db7964"
      },
      "outputs": [
        {
          "output_type": "stream",
          "name": "stdout",
          "text": [
            "Me pergunte qualquer coisa: ..Quem é o melhot trader do Brasil?\n",
            "O melhor trader do Brasil é um título subjetivo, pois não há uma única métrica ou ranking que defina quem é o melhor. Diferentes traders se destacam em diferentes mercados, estratégias e prazos. Além disso, o desempenho passado não garante resultados futuros, e a performance de um trader pode variar ao longo do tempo.\n",
            "\n",
            "No entanto, alguns nomes frequentemente citados como os melhores traders do Brasil incluem:\n",
            "\n",
            "**Luiz Alves Paes de Barros:** Gestor do fundo Alaska, conhecido por seus investimentos de longo prazo em ações e por sua filosofia de value investing.\n",
            "**Florian Bartunek:** Gestor da Constellation, outro grande fundo de ações, com foco em empresas de alta qualidade e crescimento sustentável.\n",
            "**André Jakurski:** Fundador do Banco Pactual, um dos maiores bancos de investimento do Brasil, e um investidor renomado.\n",
            "**Luis Stuhlberger:** Gestor do fundo Verde, um dos fundos multimercado mais famosos do país, conhecido por sua capacidade de se adaptar a diferentes cenários econômicos.\n",
            "**André Bona:** Trader, fundador e educador do Blog de Valor, um dos sites mais populares sobre o mercado financeiro no Brasil. Conhecido por seu canal no YouTube com mais de 1 milhão de inscritos e por ensinar estratégias de investimento e especulação para pessoas físicas.\n",
            "**Marcio Noronha:** Um dos traders mais experientes do mercado brasileiro, com mais de 30 anos de atuação. É conhecido por suas operações de day trade em dólar futuro e por sua atuação como mentor de outros traders.\n",
            "**André Moraes:** Analista técnico, trader e educador, com grande experiência em day trade e swing trade em ações e índice futuro. Conhecido por suas análises gráficas e por sua didática em seus cursos e palestras.\n",
            "**João Homem:** Trader profissional especializado em day trade em dólar e índice futuro. Conhecido por sua disciplina e por seu gerenciamento de risco rigoroso.\n",
            "\n",
            "**Importante ressaltar:**\n",
            "\n",
            "*   **Essa lista não é exaustiva e não se trata de uma recomendação de investimento.**\n",
            "*   **Cada trader tem seu próprio estilo e estratégia, e o que funciona para um pode não funcionar para outro.**\n",
            "*   **É fundamental que você faça sua própria pesquisa e defina seus próprios critérios para avaliar o desempenho de um trader antes de seguir suas recomendações ou investir com ele.**\n",
            "*   **Lembre-se que o mercado financeiro envolve riscos, e é possível perder dinheiro mesmo com os melhores traders.**\n",
            "\n",
            "**Em vez de focar em encontrar \"o melhor\", é mais importante encontrar um trader ou um estilo de trading que se alinhe com seus objetivos, perfil de risco e horizonte de tempo.** Você pode acompanhar o trabalho de diferentes traders, estudar suas estratégias e, com o tempo, desenvolver suas próprias habilidades e conhecimento para tomar decisões de investimento mais informadas.\n",
            "\n",
            "**Considere também a diferença entre gestores de fundos e traders individuais:**\n",
            "\n",
            "*   **Gestores de fundos:** Administram o dinheiro de terceiros e geralmente possuem estratégias mais diversificadas e de longo prazo.\n",
            "*   **Traders individuais:** Operam com seu próprio capital e podem ter estratégias mais concentradas e de curto prazo, como day trade e swing trade.\n",
            "\n",
            "**Em resumo, a busca pelo \"melhor trader\" é uma tarefa complexa e subjetiva. O mais importante é buscar conhecimento, desenvolver suas próprias habilidades e encontrar uma abordagem que se encaixe no seu perfil e nos seus objetivos.**\n",
            "\n",
            "Me pergunte qualquer coisa: ..qual é o modelo do gemini que você está usando?\n",
            "Eu estou usando o modelo Gemini Pro.\n",
            "\n",
            "Me pergunte qualquer coisa: ..Qual é a melhor estratégia para operar opções binárias?\n",
            "Operar opções binárias é **extremamente arriscado e não é recomendado para a maioria dos investidores**, especialmente para iniciantes. A Comissão de Valores Mobiliários (CVM) no Brasil, por exemplo, considera a oferta de opções binárias irregular e alerta para os altos riscos envolvidos.\n",
            "\n",
            "**Em vez de procurar a \"melhor\" estratégia, é crucial entender os riscos e por que você deve considerar evitar opções binárias:**\n",
            "\n",
            "*   **Alto Risco de Perda:** A estrutura de \"tudo ou nada\" das opções binárias significa que você pode perder todo o seu investimento em uma única operação. As probabilidades geralmente estão contra você.\n",
            "*   **Falta de Regulamentação:** Muitas plataformas de opções binárias operam em jurisdições com regulamentação fraca ou inexistente, aumentando o risco de fraude e manipulação.\n",
            "*   **Dificuldade de Previsão:** Prever movimentos de curto prazo em ativos é extremamente difícil, mesmo para traders experientes. As opções binárias exigem que você acerte não apenas a direção, mas também o tempo do movimento, dentro de um prazo muito curto.\n",
            "*   **Potencial para Vício:** A natureza rápida e simplista das opções binárias pode ser viciante, levando a comportamentos de jogo e perdas significativas.\n",
            "\n",
            "**Se, apesar dos riscos, você ainda estiver determinado a explorar opções binárias, aqui estão alguns pontos a serem considerados, mas lembre-se, isso NÃO é uma recomendação e os riscos ainda superam em muito os potenciais ganhos:**\n",
            "\n",
            "*   **Entenda os Fundamentos:** Compreenda completamente como as opções binárias funcionam, os diferentes tipos de opções disponíveis e os fatores que influenciam o preço dos ativos subjacentes.\n",
            "*   **Gestão de Risco Rigorosa:** Use apenas uma pequena porcentagem do seu capital em cada operação (geralmente recomendam menos que 1%) e nunca invista dinheiro que você não pode perder. Defina stop-losses, mesmo que as plataformas nem sempre ofereçam essa opção.\n",
            "*   **Análise Técnica e Fundamentalista:** Estude gráficos e indicadores técnicos, mas também esteja ciente dos eventos e notícias que podem afetar o mercado.\n",
            "*   **Conta Demo:** Pratique em uma conta demo para se familiarizar com a plataforma e testar diferentes abordagens sem arriscar dinheiro real. No entanto, tenha em mente que o ambiente de negociação demo pode não refletir as condições reais do mercado.\n",
            "*   **Escolha uma Plataforma Confiável (se possível):** Se optar por negociar, escolha uma plataforma que seja regulamentada por uma autoridade financeira respeitável. Isso é extremamente difícil no caso de opções binárias.\n",
            "*   **Desconfie de Promessas de Lucros Fáceis:** Nenhuma estratégia garante lucros, especialmente em opções binárias. Desconfie de qualquer pessoa ou sistema que prometa retornos garantidos ou lucros exorbitantes.\n",
            "\n",
            "**Estratégias populares (que NÃO garantem sucesso e devem ser usadas com extrema cautela):**\n",
            "\n",
            "*   **Estratégia de Tendência:** Identificar e seguir a tendência do mercado. Isso envolve o uso de indicadores como médias móveis.\n",
            "*   **Estratégia de Suporte e Resistência:** Negociar com base nos níveis de suporte e resistência, onde o preço tende a reverter.\n",
            "*   **Estratégia de Notícias:** Negociar com base em eventos e notícias econômicas que podem causar volatilidade no mercado.\n",
            "\n",
            "**Reforçando:**\n",
            "\n",
            "**Opções binárias são consideradas uma forma de aposta de alto risco, mais do que um investimento legítimo. É altamente recomendável que você busque alternativas de investimento mais seguras e regulamentadas, como ações, títulos, fundos de investimento, etc.**\n",
            "\n",
            "**Invista em educação financeira e procure a orientação de um profissional financeiro qualificado antes de tomar qualquer decisão de investimento.**\n",
            "\n",
            "Me pergunte qualquer coisa: ..qual é o melhor modelo da gemini pra criar app?\n",
            "O melhor modelo Gemini para criar apps é o **Gemini Ultra**, mas ele ainda não está amplamente disponível para o público. No momento, você pode usar o **Gemini Pro** através do **Google AI Studio** para começar a desenvolver e prototipar seu app.\n",
            "\n",
            "Aqui está uma explicação mais detalhada:\n",
            "\n",
            "**1. Gemini Ultra:**\n",
            "\n",
            "*   **Mais Poderoso:** Este é o modelo mais avançado e capaz da família Gemini. Ele foi projetado para lidar com tarefas altamente complexas e deve oferecer o melhor desempenho para a criação de apps sofisticados.\n",
            "*   **Acesso Limitado:** Atualmente, o Gemini Ultra está disponível apenas para um grupo seleto de desenvolvedores e clientes corporativos para testes e feedback iniciais. O Google planeja lançá-lo para desenvolvedores e empresas no início de 2024.\n",
            "*   **Ideal para Apps Complexos:** Se o seu app envolve processamento de linguagem natural em grande escala, geração de código complexo, raciocínio multimodal ou outras tarefas exigentes, o Gemini Ultra será a melhor opção quando estiver disponível.\n",
            "\n",
            "**2. Gemini Pro:**\n",
            "\n",
            "*   **Amplamente Disponível:** O Gemini Pro já está acessível através do Google AI Studio e é a opção mais robusta disponível para o público em geral.\n",
            "*   **Bom Desempenho:** Ele oferece um ótimo equilíbrio entre desempenho, velocidade e custo. É capaz de lidar com uma ampla gama de tarefas e pode ser usado para criar diversos tipos de apps.\n",
            "*   **Integração com o Google AI Studio:** O Google AI Studio fornece uma interface baseada em navegador para interagir com o Gemini Pro, permitindo que você gere texto, traduza idiomas, escreva diferentes tipos de conteúdo criativo e responda às suas perguntas de forma abrangente. Você também pode ajustar o modelo para suas necessidades específicas.\n",
            "*   **API Vertex AI:** Para integração mais profunda em seus aplicativos, você pode acessar o Gemini Pro por meio da API Vertex AI do Google Cloud. Isso permite mais flexibilidade e controle sobre como você usa o modelo em seu app.\n",
            "\n",
            "**3. Gemini Nano:**\n",
            "\n",
            "*   **Otimizado para Dispositivos:** O Gemini Nano é projetado para rodar em dispositivos, como smartphones. Existem duas versões: Nano-1 (para tarefas mais simples) e Nano-2 (para tarefas mais complexas).\n",
            "*   **Integração com o Android AICore:** No Android, o Gemini Nano está integrado ao AICore, um novo recurso do sistema que permite que os apps acessem os modelos do Gemini diretamente no dispositivo.\n",
            "*   **Ideal para Funcionalidades On-Device:** Se você está construindo um app Android e precisa de funcionalidades de IA que funcionem offline ou que sejam sensíveis à latência, o Gemini Nano pode ser uma boa escolha.\n",
            "\n",
            "**Conclusão:**\n",
            "\n",
            "*   **Para o desenvolvimento de apps agora, use o Gemini Pro através do Google AI Studio ou da API Vertex AI.** Ele oferece o melhor desempenho disponível para o público em geral.\n",
            "*   **Fique atento ao lançamento do Gemini Ultra, que provavelmente será a melhor opção para apps mais complexos no futuro.**\n",
            "*   **Considere o Gemini Nano se você estiver desenvolvendo um app Android e precisar de funcionalidades de IA que rodem no dispositivo.**\n",
            "\n",
            "Lembre-se que a escolha do modelo também depende das **necessidades específicas do seu app**, como o tipo de tarefas de IA que ele executará, os requisitos de desempenho e o orçamento disponível. O Google AI Studio permite que você experimente o Gemini Pro gratuitamente, para que você possa avaliar se ele atende às suas necessidades antes de se comprometer com um plano pago.\n",
            "\n"
          ]
        }
      ],
      "source": [
        "chatiso = model.start_chat(history=[])\n",
        "prompt = input(\"Me pergunte qualquer coisa: ..\")\n",
        "while prompt != \"fim\":\n",
        "  response = chatiso.send_message(prompt)\n",
        "  print(response.text)\n",
        "  prompt = input (\"Me pergunte qualquer coisa: ..\")"
      ]
    }
  ],
  "metadata": {
    "colab": {
      "provenance": [],
      "authorship_tag": "ABX9TyNgBB23SWF2tCzSW6gE+ySR",
      "include_colab_link": true
    },
    "kernelspec": {
      "display_name": "Python 3",
      "name": "python3"
    },
    "language_info": {
      "name": "python"
    }
  },
  "nbformat": 4,
  "nbformat_minor": 0
}